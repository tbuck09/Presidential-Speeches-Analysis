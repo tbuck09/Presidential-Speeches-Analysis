{
 "cells": [
  {
   "cell_type": "code",
   "execution_count": 1,
   "metadata": {},
   "outputs": [],
   "source": [
    "from nltk.tokenize import word_tokenize\n",
    "from nltk.corpus import stopwords\n",
    "from collections import defaultdict\n",
    "\n",
    "import matplotlib.pyplot as plt\n",
    "import numpy as np\n",
    "import math\n",
    "\n",
    "import operator as opr"
   ]
  },
  {
   "cell_type": "markdown",
   "metadata": {},
   "source": [
    "# Set variable TR1902 to open Theodore Roosevelt's 1902 State of the Union address."
   ]
  },
  {
   "cell_type": "code",
   "execution_count": 2,
   "metadata": {},
   "outputs": [],
   "source": [
    "TR1902= open(r'Speeches\\TR_December_2_1902.txt','r').read().lower()"
   ]
  },
  {
   "cell_type": "markdown",
   "metadata": {},
   "source": [
    "# Set Stopwords"
   ]
  },
  {
   "cell_type": "code",
   "execution_count": 3,
   "metadata": {},
   "outputs": [],
   "source": [
    "STOPWORDS= set(stopwords.words('english'))"
   ]
  },
  {
   "cell_type": "markdown",
   "metadata": {},
   "source": [
    "# Tokenize TR1902 and remove Stopwords, punctuation, and numbers"
   ]
  },
  {
   "cell_type": "code",
   "execution_count": 4,
   "metadata": {},
   "outputs": [],
   "source": [
    "TR1902_Tok= word_tokenize(TR1902)"
   ]
  },
  {
   "cell_type": "code",
   "execution_count": 5,
   "metadata": {},
   "outputs": [],
   "source": [
    "TR1902_NoStop= [i for i in TR1902_Tok if i not in STOPWORDS]"
   ]
  },
  {
   "cell_type": "code",
   "execution_count": 6,
   "metadata": {},
   "outputs": [],
   "source": [
    "TR1902_sort= sorted(list(TR1902_NoStop))"
   ]
  },
  {
   "cell_type": "code",
   "execution_count": 7,
   "metadata": {
    "scrolled": true
   },
   "outputs": [
    {
     "name": "stdout",
     "output_type": "stream",
     "text": [
      "['$', \"''\", \"'s\", '(', ')', ',', '--', '.', '1', '10,216,853.87', '10,748', '11,650', '121,848,047.26', '1860', '1875', '1879', '1893', '1901', '1901.', '1902', '20', '30', '4', '8,518,067.rural', ':', ';', '[', ']', '``']\n"
     ]
    }
   ],
   "source": [
    "TR1902_punc= []\n",
    "for i in TR1902_sort[0:776]:\n",
    "    if i not in TR1902_punc:\n",
    "        TR1902_punc.append(i)\n",
    "print(TR1902_punc)"
   ]
  },
  {
   "cell_type": "markdown",
   "metadata": {},
   "source": [
    "# Bag of words"
   ]
  },
  {
   "cell_type": "code",
   "execution_count": 8,
   "metadata": {},
   "outputs": [],
   "source": [
    "words= []\n",
    "for i in TR1902_sort:\n",
    "    if i not in words:\n",
    "        if i not in TR1902_punc:\n",
    "            words.append(i)"
   ]
  },
  {
   "cell_type": "code",
   "execution_count": 9,
   "metadata": {},
   "outputs": [],
   "source": [
    "count= [0 for i in range(len(words))]\n",
    "\n",
    "for i in TR1902_sort:\n",
    "    if i in words:\n",
    "        count[words.index(i)]= count[words.index(i)] + 1"
   ]
  },
  {
   "cell_type": "code",
   "execution_count": 10,
   "metadata": {},
   "outputs": [],
   "source": [
    "count_mean= sum(count)/len(count)\n",
    "\n",
    "count_sort= sorted(list(count))\n",
    "count_median= [count_sort[int(len(count_sort)/2-.5)],count_sort[int(len(count_sort)/2+.5)]]"
   ]
  },
  {
   "cell_type": "code",
   "execution_count": 11,
   "metadata": {},
   "outputs": [],
   "source": [
    "BOW= list(zip(words,count))"
   ]
  },
  {
   "cell_type": "markdown",
   "metadata": {},
   "source": [
    "# Look into most common words"
   ]
  },
  {
   "cell_type": "code",
   "execution_count": 12,
   "metadata": {},
   "outputs": [],
   "source": [
    "tops= [BOW[i] for i in range(0,len(BOW)) if BOW[i][1] >= 4]\n",
    "\n",
    "tops_word= [tops[i][0] for i in range(0,len(tops))]\n",
    "tops_count= [tops[i][1] for i in range(0,len(tops))]\n",
    "tops_count_RA= np.asarray(tops_count)"
   ]
  },
  {
   "cell_type": "code",
   "execution_count": 13,
   "metadata": {},
   "outputs": [
    {
     "name": "stdout",
     "output_type": "stream",
     "text": [
      "Mean:  7.5477031802120145 \n",
      "\n",
      "Median=  [6, 6] \n",
      "\n",
      "Max:  36 \n",
      "\n",
      "Min:  4\n"
     ]
    }
   ],
   "source": [
    "count= [i[1] for i in tops]\n",
    "\n",
    "count_mean= sum(count)/len(count)\n",
    "\n",
    "count_sort= sorted(list(count))\n",
    "count_median= [count_sort[int(len(count_sort)/2-.5)],count_sort[int(len(count_sort)/2+.5)]]\n",
    "\n",
    "print('Mean: ',count_mean,'\\n')\n",
    "print('Median= ',count_median,'\\n')\n",
    "print('Max: ',max(count),'\\n')\n",
    "print('Min: ', min(count))"
   ]
  },
  {
   "cell_type": "markdown",
   "metadata": {},
   "source": [
    "# Determine sections of speech\n",
    "Use concentrations of words to determine themes or subjects within certain sections of the speech.\n",
    "\"Alaska\" (n=6) is a good place to start."
   ]
  },
  {
   "cell_type": "code",
   "execution_count": 14,
   "metadata": {},
   "outputs": [],
   "source": [
    "indices= [i for i in range(0,len(TR1902_NoStop)) if TR1902_NoStop[i]==\"alaska\"]"
   ]
  },
  {
   "cell_type": "code",
   "execution_count": 15,
   "metadata": {},
   "outputs": [
    {
     "name": "stdout",
     "output_type": "stream",
     "text": [
      "4539.166666666667\n",
      "57.54828890206516\n"
     ]
    }
   ],
   "source": [
    "print(np.mean(indices))\n",
    "\n",
    "indices_stdev= np.std(indices)\n",
    "print(indices_stdev)"
   ]
  },
  {
   "cell_type": "markdown",
   "metadata": {},
   "source": [
    "\n",
    "Now to try a more commonly used word. \"Possible\" (n= 14), is a good example.\n"
   ]
  },
  {
   "cell_type": "code",
   "execution_count": 16,
   "metadata": {},
   "outputs": [],
   "source": [
    "indices= [i for i in range(0,len(TR1902_NoStop)) if TR1902_NoStop[i]==\"possible\"]"
   ]
  },
  {
   "cell_type": "code",
   "execution_count": 17,
   "metadata": {},
   "outputs": [
    {
     "name": "stdout",
     "output_type": "stream",
     "text": [
      "2758.4285714285716\n",
      "1453.3862289880983\n"
     ]
    }
   ],
   "source": [
    "print(np.mean(indices))\n",
    "\n",
    "indices_stdev= np.std(indices)\n",
    "print(indices_stdev)"
   ]
  },
  {
   "cell_type": "markdown",
   "metadata": {},
   "source": [
    "\n",
    "It's apparent that \"possible\" is much less of an indicator as to the subject of a section (stdev= 1453.39) than \"Alaska\" (stdev= 57.55).\n"
   ]
  },
  {
   "cell_type": "markdown",
   "metadata": {},
   "source": [
    "Now to get indices for all words in our NoStop Tokens."
   ]
  },
  {
   "cell_type": "code",
   "execution_count": 18,
   "metadata": {
    "scrolled": true
   },
   "outputs": [],
   "source": [
    "indices= []\n",
    "for j in range(0,len(tops)):\n",
    "    store= []\n",
    "    for i in range(0,len(TR1902_NoStop)):\n",
    "        if TR1902_NoStop[i] == tops[j][0]:\n",
    "            store.append(i)\n",
    "    indices.append(store)"
   ]
  },
  {
   "cell_type": "markdown",
   "metadata": {},
   "source": [
    "Now that we have the indices, we can measure each words proximity to itself using the Standard Deviation of the indices."
   ]
  },
  {
   "cell_type": "code",
   "execution_count": 19,
   "metadata": {},
   "outputs": [],
   "source": [
    "indices_stdev= [np.std(i) for i in indices]\n",
    "indices_stdev_RA= np.asarray(indices_stdev)"
   ]
  },
  {
   "cell_type": "markdown",
   "metadata": {},
   "source": [
    "To keep everything together, we'll add all of the numbers together in a list and then add this \"num_list\" to a dictionary with the key being the affiliated term"
   ]
  },
  {
   "cell_type": "code",
   "execution_count": 20,
   "metadata": {},
   "outputs": [],
   "source": [
    "num_list= list(zip(tops_count,indices_stdev,indices))\n",
    "\n",
    "indices_dict= dict(zip(tops_word,num_list))"
   ]
  },
  {
   "cell_type": "markdown",
   "metadata": {},
   "source": [
    "# Plot the findings\n",
    "\n",
    "The first plot is frequency to proximity of words."
   ]
  },
  {
   "cell_type": "code",
   "execution_count": 21,
   "metadata": {
    "scrolled": true
   },
   "outputs": [
    {
     "data": {
      "image/png": "[encoded data removed]",
      "text/plain": [
       "<Figure size 432x288 with 1 Axes>"
      ]
     },
     "metadata": {
      "needs_background": "light"
     },
     "output_type": "display_data"
    }
   ],
   "source": [
    "plt.title(\"Proximities of Words (to themselves) in Theodore Roosevelt's 1902 State of the Union Speech\")\n",
    "plt.xlabel(\"Word Frequency\")\n",
    "plt.ylabel(\"Proximity (stdev)\")\n",
    "\n",
    "t= plt.text(6,200,\"alaska\",fontsize='10')\n",
    "t.set_bbox(dict(facecolor='white',alpha=.65,edgecolor='blue'))\n",
    "t= plt.text(14,1600,\"possible\",fontsize='10')\n",
    "t.set_bbox(dict(facecolor='white',alpha=.65,edgecolor='blue'))\n",
    "t= plt.text(18,310,\"tariff\",fontsize='10')\n",
    "t.set_bbox(dict(facecolor='white',alpha=.65,edgecolor='blue'))\n",
    "t= plt.text(13,220,\"cable\",fontsize='10')\n",
    "t.set_bbox(dict(facecolor='white',alpha=.65,edgecolor='blue'))\n",
    "t= plt.text(14,370,\"navy\",fontsize='10')\n",
    "t.set_bbox(dict(facecolor='white',alpha=.65,edgecolor='blue'))\n",
    "\n",
    "plt.scatter(tops_count_RA,indices_stdev_RA)\n",
    "plt.scatter(6,57.54828890206516,c= 'g',s= 121,marker= 's',edgecolors= 'k')\n",
    "plt.scatter(14,1453.3862289880983,c='g',s=121,marker='s',edgecolors='k')\n",
    "plt.scatter(18,159.60015625475813,c='g',s=121,marker='s',edgecolors='k')\n",
    "plt.scatter(13,73.575867538369323,c='g',s=121,marker='s',edgecolors='k')\n",
    "plt.scatter(14,122.29672847594233,c='g',s=121,marker='s',edgecolors='k')\n",
    "\n",
    "plt.show()"
   ]
  },
  {
   "cell_type": "markdown",
   "metadata": {},
   "source": [
    "Here we can see some areas stand out more than others. \"Possible\" is at the top of the graph, indicating this term is not found close to other \"possible\"s in the text. \"Alaska\",\"cable\",\"navy\", and \"tariff\" stand out in the bottom, indicating these terms are each used in the same sections of the text."
   ]
  },
  {
   "cell_type": "markdown",
   "metadata": {},
   "source": [
    "Cherry-picking some of the more significant terms from the chart above (those used more than 4 times and with a standard deviation of less than 300). This will essentially zoom in on the more interesting words that may indicate a section of the speech."
   ]
  },
  {
   "cell_type": "code",
   "execution_count": 22,
   "metadata": {},
   "outputs": [],
   "source": [
    "section_words= []\n",
    "for i in range(0,len(num_list)):\n",
    "    if num_list[i][0] > 4:\n",
    "        if num_list[i][1] <= 300:\n",
    "            section_words.append([tops_word[i],num_list[i][0],num_list[i][1]])"
   ]
  },
  {
   "cell_type": "code",
   "execution_count": 23,
   "metadata": {
    "scrolled": true
   },
   "outputs": [],
   "source": [
    "section_count_RA= np.asarray([section_words[i][1] for i in range(0,len(section_words))])\n",
    "section_stdev_RA= np.asarray([section_words[i][2] for i in range(0,len(section_words))])"
   ]
  },
  {
   "cell_type": "markdown",
   "metadata": {},
   "source": [
    "Graphing the cherry-picked terms. It's a little messy, but the words of interest (high frequency and low st dev) are very visible."
   ]
  },
  {
   "cell_type": "code",
   "execution_count": 48,
   "metadata": {
    "scrolled": false
   },
   "outputs": [
    {
     "data": {
      "image/png": "[encoded data removed]",
      "text/plain": [
       "<Figure size 432x288 with 1 Axes>"
      ]
     },
     "metadata": {
      "needs_background": "light"
     },
     "output_type": "display_data"
    }
   ],
   "source": [
    "plt.title(\"Proximities of Section Words\")\n",
    "plt.xlabel(\"Section Word Frequency\")\n",
    "plt.ylabel(\"Proximity (stdev)\")\n",
    "\n",
    "for i in range(0,len(section_words)):\n",
    "    plt.text(section_words[i][1],int(math.ceil(section_words[i][2]+15)),section_words[i][0],fontsize='13')\n",
    "\n",
    "plt.scatter(section_count_RA,section_stdev_RA)\n",
    "plt.scatter(6,57.54828890206516,c= 'g',s= 121,marker= 's',edgecolors= 'k')\n",
    "plt.scatter(18,159.60015625475813,c='g',s=121,marker='s',edgecolors='k')\n",
    "\n",
    "# plt.ylim(0,300)\n",
    "plt.ylim(min(section_stdev_RA)-10,max(section_stdev_RA)+30)\n",
    "plt.xlim(min(section_count_RA)-1,max(section_count_RA)+2)\n",
    "# plt.xticks(np.arange(min(section_count_RA)-1,max(section_count_RA)+2,5))\n",
    "\n",
    "plt.savefig(\"images\\TR1902_Section_Words.png\")\n",
    "plt.show()"
   ]
  },
  {
   "cell_type": "markdown",
   "metadata": {},
   "source": [
    "# Analysis"
   ]
  },
  {
   "cell_type": "markdown",
   "metadata": {},
   "source": [
    "\"Tariff\", \"navy\", and \"cable\" are words that particularly stand out. Each of these words has a high frequency and are relatively close together in the speech.\n",
    "\n",
    "A closer look is needed, but at first glance \"tariff\" appears to refer to Teddy's anti-trust agenda. Indeed, the 14 instances of \"tariff\" in the speech align with a paragraph or two, so this method appears to be identifying sections of this speech well.\n",
    "\n",
    "Teddy's inherent affinity for a strong navy (he gained reknown among military elite for his publishing of 'The Naval War of 1812' in 1882) leads me to believe the term \"navy\" likely plays a role in several of his speeches, State of the Union and otherwise. Further analysis will need conducted to confirm this, however.\n",
    "\n",
    "\"Cable\" seemed like an interesting word for 1902. When I looked this up in the text document, I found this is referring to the Trans-Pacific Cable, a telegraph cable intended to connect America to the Philippines (via Hawaii) and to China and Japan.\n",
    "<a href=https://en.wikipedia.org/wiki/Commercial_Pacific_Cable_Company>Wikipedia page referring to TPC</a>"
   ]
  },
  {
   "cell_type": "markdown",
   "metadata": {},
   "source": [
    "# Tokenizing by n-grams\n",
    "A different approach to word frequencies and themes of TR's 1902 State of the Union address can be conducted using pairs or sets of words that commonly appear."
   ]
  },
  {
   "cell_type": "markdown",
   "metadata": {},
   "source": [
    "I will begin by checking for pairs of words that frequently occur together."
   ]
  },
  {
   "cell_type": "code",
   "execution_count": 26,
   "metadata": {},
   "outputs": [],
   "source": [
    "#gram2= [TR1902_Tok[i]+\" \"+TR1902_Tok[i+1] for i in range(0,len(TR1902_Tok)-1) if TR1902_Tok[i] not in TR1902_punc if TR1902_Tok[i+1] not in TR1902_punc]\n",
    "gram2= [list([TR1902_Tok[i],TR1902_Tok[i+1]]) for i in range(0,len(TR1902_Tok)-1) if TR1902_Tok[i] not in TR1902_punc if TR1902_Tok[i+1] not in TR1902_punc]"
   ]
  },
  {
   "cell_type": "code",
   "execution_count": 27,
   "metadata": {},
   "outputs": [],
   "source": [
    "gram2_words= []\n",
    "for i in gram2:\n",
    "    if i not in gram2_words:\n",
    "        gram2_words.append(i)\n",
    "            \n",
    "gram2_count= [0 for i in range(len(gram2_words))]\n",
    "\n",
    "for i in gram2:\n",
    "    if i in gram2_words:\n",
    "        gram2_count[gram2_words.index(i)]= gram2_count[gram2_words.index(i)] + 1"
   ]
  },
  {
   "cell_type": "code",
   "execution_count": 28,
   "metadata": {},
   "outputs": [],
   "source": [
    "gram2_max= max(gram2_count)\n",
    "\n",
    "gram2_min= min(gram2_count)\n",
    "\n",
    "gram2_mean= sum(gram2_count)/len(gram2_count)\n",
    "\n",
    "count_sort= sorted(list(count))\n",
    "gram2_median= [count_sort[int(len(count_sort)/2-.5)],count_sort[int(len(count_sort)/2+.5)]]"
   ]
  },
  {
   "cell_type": "code",
   "execution_count": 29,
   "metadata": {
    "scrolled": true
   },
   "outputs": [
    {
     "name": "stdout",
     "output_type": "stream",
     "text": [
      "162\n",
      "1\n",
      "1.4032080515804373\n",
      "[6, 6]\n"
     ]
    }
   ],
   "source": [
    "print(gram2_max)\n",
    "print(gram2_min)\n",
    "print(gram2_mean)\n",
    "print(gram2_median)"
   ]
  },
  {
   "cell_type": "code",
   "execution_count": 30,
   "metadata": {},
   "outputs": [],
   "source": [
    "gram2_BOW= list(zip(gram2_words,gram2_count))"
   ]
  },
  {
   "cell_type": "code",
   "execution_count": 31,
   "metadata": {},
   "outputs": [],
   "source": [
    "gram2_tops= [i for i in gram2_BOW if i[1] > 2 if i[0][0] not in STOPWORDS if i[0][1] not in STOPWORDS]"
   ]
  },
  {
   "cell_type": "code",
   "execution_count": 32,
   "metadata": {},
   "outputs": [],
   "source": [
    "gram2_tops.sort(key=lambda x: int(x[1]),reverse=True)"
   ]
  },
  {
   "cell_type": "code",
   "execution_count": 33,
   "metadata": {
    "scrolled": false
   },
   "outputs": [
    {
     "name": "stdout",
     "output_type": "stream",
     "text": [
      "(['united', 'states'], 7)\n",
      "(['philippine', 'islands'], 6)\n",
      "(['industrial', 'development'], 4)\n",
      "(['business', 'interests'], 4)\n",
      "(['one', 'hundred'], 4)\n",
      "(['every', 'effort'], 4)\n",
      "(['interstate', 'business'], 3)\n",
      "(['tariff', 'changes'], 3)\n",
      "(['already', 'passed'], 3)\n",
      "(['cable', 'company'], 3)\n",
      "(['free-delivery', 'service'], 3)\n",
      "(['rural', 'free-delivery'], 3)\n"
     ]
    }
   ],
   "source": [
    "type(gram2_tops)\n",
    "for i in gram2_tops:\n",
    "    print(i)"
   ]
  },
  {
   "cell_type": "code",
   "execution_count": null,
   "metadata": {},
   "outputs": [],
   "source": []
  }
 ],
 "metadata": {
  "kernelspec": {
   "display_name": "Python 3",
   "language": "python",
   "name": "python3"
  },
  "language_info": {
   "codemirror_mode": {
    "name": "ipython",
    "version": 3
   },
   "file_extension": ".py",
   "mimetype": "text/x-python",
   "name": "python",
   "nbconvert_exporter": "python",
   "pygments_lexer": "ipython3",
   "version": "3.6.7"
  }
 },
 "nbformat": 4,
 "nbformat_minor": 2
}
