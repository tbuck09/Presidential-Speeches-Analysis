{
 "cells": [
  {
   "cell_type": "markdown",
   "metadata": {},
   "source": [
    "# Comparing TR Speeches"
   ]
  },
  {
   "cell_type": "code",
   "execution_count": 8,
   "metadata": {},
   "outputs": [],
   "source": [
    "from nltk.tokenize import word_tokenize\n",
    "from nltk.corpus import stopwords\n",
    "from collections import defaultdict\n",
    "\n",
    "import matplotlib.pyplot as plt\n",
    "import numpy as np\n",
    "import math\n",
    "\n",
    "import operator as opr"
   ]
  },
  {
   "cell_type": "markdown",
   "metadata": {},
   "source": [
    "# Reading in the speeches\n",
    "The 1901 and 1905 speeches are inaugural addresses while the others are State of the Union speeches submitted in writing to Congress.\n",
    "\n",
    "The speeches were read from <a href=https://www.presidency.ucsb.edu/documents/presidential-documents-archive-guidebook/annual-messages-congress-the-state-the-union> The American Presidency Project website </a> and copied to .txt files saved locally using the PullSpeechURLs.py script. This was conducted in early 2018 and the site has since changed its format."
   ]
  },
  {
   "cell_type": "code",
   "execution_count": 9,
   "metadata": {},
   "outputs": [],
   "source": [
    "TR1901= open(r'Speeches\\TR_December_3_1901.txt','r').read().lower()\n",
    "TR1902= open(r'Speeches\\TR_December_2_1902.txt','r').read().lower()\n",
    "TR1903= open(r'Speeches\\TR_December_7_1903.txt','r').read().lower()\n",
    "TR1904= open(r'Speeches\\TR_December_6_1904.txt','r').read().lower()\n",
    "TR1905= open(r'Speeches\\TR_December_5_1905.txt','r').read().lower()\n",
    "TR1906= open(r'Speeches\\TR_December_3_1906.txt','r').read().lower()\n",
    "TR1907= open(r'Speeches\\TR_December_3_1907.txt','r').read().lower()\n",
    "TR1908= open(r'Speeches\\TR_December_8_1908.txt','r').read().lower()"
   ]
  },
  {
   "cell_type": "code",
   "execution_count": 157,
   "metadata": {},
   "outputs": [],
   "source": [
    "TRspeeches= [TR1901,TR1902,TR1903,TR1904,TR1905,TR1906,TR1907,TR1908]\n",
    "TRspeeches_str= ['TR1901','TR1902','TR1903','TR1904','TR1905','TR1906','TR1907','TR1908']"
   ]
  },
  {
   "cell_type": "markdown",
   "metadata": {},
   "source": [
    "# Set Stopwords and start tokenizing"
   ]
  },
  {
   "cell_type": "code",
   "execution_count": 11,
   "metadata": {},
   "outputs": [],
   "source": [
    "STOPWORDS= set(stopwords.words('english'))"
   ]
  },
  {
   "cell_type": "code",
   "execution_count": 12,
   "metadata": {},
   "outputs": [],
   "source": [
    "TR_Tok= [word_tokenize(i) for i in TRspeeches]"
   ]
  },
  {
   "cell_type": "code",
   "execution_count": 13,
   "metadata": {
    "scrolled": true
   },
   "outputs": [
    {
     "name": "stdout",
     "output_type": "stream",
     "text": [
      "20944\n",
      "10461\n",
      "16322\n",
      "18731\n",
      "26999\n",
      "25511\n",
      "29518\n",
      "21052\n"
     ]
    }
   ],
   "source": [
    "for i in TR_Tok:\n",
    "    print(len(i))"
   ]
  },
  {
   "cell_type": "code",
   "execution_count": 14,
   "metadata": {},
   "outputs": [],
   "source": [
    "TR_NoStop= [[i for i in j if i not in STOPWORDS] for j in TR_Tok]"
   ]
  },
  {
   "cell_type": "code",
   "execution_count": 15,
   "metadata": {},
   "outputs": [],
   "source": [
    "TR_Sort= [sorted(list(i)) for i in TR_NoStop]"
   ]
  },
  {
   "cell_type": "markdown",
   "metadata": {},
   "source": [
    "The punctuation pulling requires a little refining. This process is very manual currently; I am searching for the index of the first proper word and taking a slice from the beginning of the sorted text to the index of the character which precedes the first word.\n",
    "\n",
    "Issues:\n",
    "\n",
    "Split words (hyphenated and continued on another line) may be excluded (\"-ire\")\n",
    "\n",
    "Typos cause certain words, though not overly consequential ones, to be removed as a result as some will have a \".\" attached on the left.\n",
    "\n",
    "Unless much more manual processing is done, numbers are excluded. Nautical measurements Teddy uses (\"20-knot\", etc) are excluded as well, but these may provide interesting insight."
   ]
  },
  {
   "cell_type": "code",
   "execution_count": 16,
   "metadata": {},
   "outputs": [],
   "source": [
    "TR_PuncInd= [TR_Sort[0][0:1501],TR_Sort[1][0:776],TR_Sort[2][0:1631],TR_Sort[3][0:1443],TR_Sort[4][0:2063],TR_Sort[5][0:2062],TR_Sort[6][0:2351],TR_Sort[7][0:1770]]"
   ]
  },
  {
   "cell_type": "markdown",
   "metadata": {},
   "source": [
    "Defining function remove_punc() to loop through each item in a list (TR_PuncInd) to then iterate over items in the sublists. Initializing TR_Punc as empty list to be appended by remove_punc()."
   ]
  },
  {
   "cell_type": "code",
   "execution_count": 17,
   "metadata": {
    "scrolled": false
   },
   "outputs": [],
   "source": [
    "TR_Punc= []"
   ]
  },
  {
   "cell_type": "code",
   "execution_count": 18,
   "metadata": {},
   "outputs": [],
   "source": [
    "def remove_punc(arg):\n",
    "    for i in arg:\n",
    "        if i not in TR_Punc:\n",
    "            TR_Punc.append(i)"
   ]
  },
  {
   "cell_type": "code",
   "execution_count": 19,
   "metadata": {},
   "outputs": [],
   "source": [
    "for i in TR_PuncInd:\n",
    "    remove_punc(i)"
   ]
  },
  {
   "cell_type": "markdown",
   "metadata": {},
   "source": [
    "# Bag of Words"
   ]
  },
  {
   "cell_type": "markdown",
   "metadata": {},
   "source": [
    "Collect all the words into a list"
   ]
  },
  {
   "cell_type": "code",
   "execution_count": 20,
   "metadata": {},
   "outputs": [],
   "source": [
    "words= []\n",
    "for i in range(0,len(TR_Tok)):\n",
    "    words.append(list())"
   ]
  },
  {
   "cell_type": "code",
   "execution_count": 21,
   "metadata": {},
   "outputs": [],
   "source": [
    "def add_words(arg,num):\n",
    "    for i in arg:\n",
    "        if i not in words[num]:\n",
    "            if i not in TR_Punc:\n",
    "                words[num].append(i)"
   ]
  },
  {
   "cell_type": "code",
   "execution_count": 22,
   "metadata": {},
   "outputs": [],
   "source": [
    "for i in range(0,len(TR_Sort)):\n",
    "    add_words(TR_Sort[i],i)"
   ]
  },
  {
   "cell_type": "markdown",
   "metadata": {},
   "source": [
    "Collect all the counts for each word to a list."
   ]
  },
  {
   "cell_type": "code",
   "execution_count": 23,
   "metadata": {},
   "outputs": [],
   "source": [
    "def add_count(arg,num):\n",
    "    for i in arg:\n",
    "        if i in words[num]:\n",
    "            count[num][words[num].index(i)]= count[num][words[num].index(i)] + 1"
   ]
  },
  {
   "cell_type": "code",
   "execution_count": 24,
   "metadata": {
    "scrolled": true
   },
   "outputs": [],
   "source": [
    "count= [[0 for i in range(0,len(words[j]))] for j in range(0,len(words))]\n",
    "\n",
    "for i in range(0,len(TR_Sort)):\n",
    "    add_count(TR_Sort[i],i)"
   ]
  },
  {
   "cell_type": "code",
   "execution_count": 25,
   "metadata": {},
   "outputs": [],
   "source": [
    "TR_Max= [max(i) for i in count]\n",
    "TR_Min= [min(i) for i in count]\n",
    "TR_Mean= [sum(i)/len(i) for i in count]\n",
    "\n",
    "count_sort= [sorted(list(i)) for i in count]\n",
    "TR_Median= [[i[int(len(i)/2-.5)],i[int(len(i)/2+.5)]] for i in count_sort]"
   ]
  },
  {
   "cell_type": "markdown",
   "metadata": {},
   "source": [
    "Zip up the lists to create the Bag of Words for each speech."
   ]
  },
  {
   "cell_type": "code",
   "execution_count": 26,
   "metadata": {},
   "outputs": [],
   "source": [
    "BOW= [list(zip(words[i],count[i])) for i in range(0,len(words))]"
   ]
  },
  {
   "cell_type": "markdown",
   "metadata": {},
   "source": [
    "An interesting preview into the upcoming analysis. TR's speeches seem to get more repetitive over time, with his most repetitive (by far) being 1907. This is the only speech in this analysis with a median greater than 1."
   ]
  },
  {
   "cell_type": "code",
   "execution_count": 27,
   "metadata": {
    "scrolled": true
   },
   "outputs": [
    {
     "name": "stdout",
     "output_type": "stream",
     "text": [
      "[('abandon', 1), ('abandoning', 1), ('abide', 1), ('abilities', 1), ('ability', 4), ('ability.i', 1), ('able', 11), ('ablest', 1), ('aboard', 2), ('abolished', 1), ('aboriginal', 1), ('abounding', 1), ('about.i', 1), ('abra', 1), ('abroad', 7), ('abrogated', 1), ('absolutely', 4), ('abundance', 1), ('abundant', 1), ('abuses', 3)] \n",
      " \tMax:  60 \n",
      " \tMin:  1 \n",
      " \tMean:  2.7954815695600477 \n",
      " \tMedian:  [1, 1] \n",
      "\n",
      "[('abandon', 1), ('abandoning', 1), ('abandonment', 1), ('ability', 2), ('able', 1), ('aboard', 1), ('abroad', 3), ('abroad.i', 1), ('absolute', 1), ('absolutely', 1), ('absorption', 4), ('abstract', 1), ('acceded', 1), ('accepted', 1), ('access', 3), ('accidental', 1), ('accomplish', 1), ('accomplished', 4), ('accord', 1), ('accordance', 1)] \n",
      " \tMax:  36 \n",
      " \tMin:  1 \n",
      " \tMean:  2.214935375777884 \n",
      " \tMedian:  [1, 1] \n",
      "\n",
      "[('abandon', 2), ('abandoned', 1), ('abating', 1), ('ability', 2), ('abnormal', 2), ('above-mentioned', 1), ('absence', 1), ('absolute', 1), ('accentuated', 1), ('accepted', 1), ('access', 1), ('accomplish', 3), ('accomplished', 3), ('accomplishes', 1), ('accomplishment', 1), ('accordance', 5), ('accorded', 1), ('according', 1), ('accordingly', 2), ('account', 1)] \n",
      " \tMax:  74 \n",
      " \tMin:  1 \n",
      " \tMean:  2.6604870956015993 \n",
      " \tMedian:  [1, 1] \n",
      "\n",
      "[('abandon', 1), ('abeyance', 1), ('ability', 1), ('abject', 1), ('able', 6), ('aboard', 1), ('abolished', 1), ('abolition', 1), ('abroad', 7), ('absence', 1), ('absolute', 1), ('absolutely', 3), ('absurdity', 2), ('abundant', 2), ('abundantly', 1), ('abuses', 5), ('accept', 4), ('accessible', 1), ('accessible.second', 1), ('accidents', 4)] \n",
      " \tMax:  57 \n",
      " \tMin:  1 \n",
      " \tMean:  2.6855867346938775 \n",
      " \tMedian:  [1, 1] \n",
      "\n",
      "[('abdicating', 1), ('abdication', 1), ('ability', 3), ('able', 15), ('aboard', 2), ('abode', 2), ('abolished', 4), ('abolishing', 1), ('abolishment', 1), ('abroad', 3), ('absence', 1), ('absolute', 2), ('absolutely', 2), ('absurd', 2), ('abuse', 2), ('abused', 1), ('abuses', 7), ('abutting', 1), ('accept', 1), ('acceptance', 1)] \n",
      " \tMax:  87 \n",
      " \tMin:  1 \n",
      " \tMean:  3.2375033774655497 \n",
      " \tMedian:  [1, 1] \n",
      "\n",
      "[('abandon', 1), ('ability', 2), ('able', 7), ('ably', 1), ('abnormal', 1), ('aboard', 1), ('abolished', 1), ('abolishing', 1), ('abolition', 1), ('abolition.it', 1), ('abominable', 2), ('abreast', 1), ('absolute', 2), ('absolutely', 4), ('absurd', 3), ('absurdity', 2), ('abundantly', 1), ('abuse', 5), ('abused', 1), ('abuses', 4)] \n",
      " \tMax:  81 \n",
      " \tMin:  1 \n",
      " \tMean:  3.1093707062379776 \n",
      " \tMedian:  [1, 1] \n",
      "\n",
      "[('abandonment', 2), ('abdicating', 1), ('ability', 8), ('able', 8), ('ably', 1), ('abnormal', 1), ('abolished', 2), ('abroad', 4), ('absolute', 2), ('absolutely', 3), ('absurd', 1), ('absurdity', 2), ('abuse', 8), ('abuses', 5), ('academic', 1), ('academy', 7), ('accept', 1), ('acceptance', 3), ('accepted', 1), ('accepting', 1)] \n",
      " \tMax:  100 \n",
      " \tMin:  1 \n",
      " \tMean:  3.4057557687321753 \n",
      " \tMedian:  [2, 2] \n",
      "\n",
      "[('abandon', 3), ('abandoning', 1), ('abandonment', 1), ('ability', 1), ('able', 13), ('abolition', 2), ('abounding', 1), ('abroad', 1), ('absence', 3), ('absentee', 1), ('absolute', 2), ('absolutely', 9), ('absorbed', 1), ('abstract', 1), ('absurd', 2), ('abundance', 1), ('abuse', 2), ('abuses', 5), ('academic', 2), ('academy', 1)] \n",
      " \tMax:  57 \n",
      " \tMin:  1 \n",
      " \tMean:  2.9181761399125548 \n",
      " \tMedian:  [1, 1] \n",
      "\n"
     ]
    }
   ],
   "source": [
    "for i in range(0,len(BOW)):\n",
    "    print(BOW[i][0:20],'\\n','\\tMax: ',TR_Max[i],'\\n','\\tMin: ',TR_Min[i],'\\n','\\tMean: ',TR_Mean[i],'\\n','\\tMedian: ',TR_Median[i],'\\n')"
   ]
  },
  {
   "cell_type": "markdown",
   "metadata": {},
   "source": [
    "# TF-IDF"
   ]
  },
  {
   "cell_type": "markdown",
   "metadata": {},
   "source": [
    "### Calculating TF\n",
    "(Total word presence in document divided by total words in document)\n",
    " \n",
    " I will only be considering the documents <b>without the stopwords </b> for these formulas."
   ]
  },
  {
   "cell_type": "code",
   "execution_count": 127,
   "metadata": {},
   "outputs": [],
   "source": [
    "def TF_Formula(BOW):\n",
    "    counts= [i[1] for i in BOW]\n",
    "    TFs= [round(i[1] / sum(counts),8) for i in BOW]\n",
    "    Terms= [i[0] for i in BOW]\n",
    "    TFs= list(zip(Terms,TFs))\n",
    "    return TFs"
   ]
  },
  {
   "cell_type": "code",
   "execution_count": 128,
   "metadata": {},
   "outputs": [],
   "source": [
    "Term_Freqs= [TF_Formula(i) for i in BOW]"
   ]
  },
  {
   "cell_type": "code",
   "execution_count": 124,
   "metadata": {},
   "outputs": [
    {
     "name": "stdout",
     "output_type": "stream",
     "text": [
      "abandon\n",
      "abandon\n",
      "[('abandon', 0.00010634), ('abandoning', 0.00010634), ('abide', 0.00010634), ('abilities', 0.00010634), ('ability', 0.00042535), ('ability.i', 0.00010634), ('able', 0.00116972), ('ablest', 0.00010634), ('aboard', 0.00021268), ('abolished', 0.00010634)]\n",
      "[('abandon', 0.00021612), ('abandoning', 0.00021612), ('abandonment', 0.00021612), ('ability', 0.00043225), ('able', 0.00021612), ('aboard', 0.00021612), ('abroad', 0.00064837), ('abroad.i', 0.00021612), ('absolute', 0.00021612), ('absolutely', 0.00021612)]\n",
      "[('abandon', 0.00027326), ('abandoned', 0.00013663), ('abating', 0.00013663), ('ability', 0.00027326), ('abnormal', 0.00027326), ('above-mentioned', 0.00013663), ('absence', 0.00013663), ('absolute', 0.00013663), ('accentuated', 0.00013663), ('accepted', 0.00013663)]\n",
      "[('abandon', 0.00011874), ('abeyance', 0.00011874), ('ability', 0.00011874), ('abject', 0.00011874), ('able', 0.00071242), ('aboard', 0.00011874), ('abolished', 0.00011874), ('abolition', 0.00011874), ('abroad', 0.00083116), ('absence', 0.00011874)]\n",
      "[('abdicating', 8.346e-05), ('abdication', 8.346e-05), ('ability', 0.00025038), ('able', 0.00125188), ('aboard', 0.00016692), ('abode', 0.00016692), ('abolished', 0.00033383), ('abolishing', 8.346e-05), ('abolishment', 8.346e-05), ('abroad', 0.00025038)]\n",
      "[('abandon', 8.838e-05), ('ability', 0.00017676), ('able', 0.00061865), ('ably', 8.838e-05), ('abnormal', 8.838e-05), ('aboard', 8.838e-05), ('abolished', 8.838e-05), ('abolishing', 8.838e-05), ('abolition', 8.838e-05), ('abolition.it', 8.838e-05)]\n",
      "[('abandonment', 0.00015225), ('abdicating', 7.613e-05), ('ability', 0.00060901), ('able', 0.00060901), ('ably', 7.613e-05), ('abnormal', 7.613e-05), ('abolished', 0.00015225), ('abroad', 0.00030451), ('absolute', 0.00015225), ('absolutely', 0.00022838)]\n",
      "[('abandon', 0.00032106), ('abandoning', 0.00010702), ('abandonment', 0.00010702), ('ability', 0.00010702), ('able', 0.00139127), ('abolition', 0.00021404), ('abounding', 0.00010702), ('abroad', 0.00010702), ('absence', 0.00032106), ('absentee', 0.00010702)]\n"
     ]
    }
   ],
   "source": [
    "print(BOW[0][0][0])\n",
    "print(Term_Freqs[0][0][0])\n",
    "for i in Term_Freqs:\n",
    "    print(i[0:10])"
   ]
  },
  {
   "cell_type": "markdown",
   "metadata": {},
   "source": [
    "### Calculating IDF"
   ]
  },
  {
   "cell_type": "code",
   "execution_count": 116,
   "metadata": {},
   "outputs": [],
   "source": [
    "def get_frequencies(corpus):\n",
    "    freqs= {}\n",
    "    for j in corpus:\n",
    "        for i in j:\n",
    "            if i[0] in freqs.keys():\n",
    "                freqs[i[0]]= freqs[i[0]]+i[1]\n",
    "            else:\n",
    "                freqs[i[0]]= i[1]\n",
    "\n",
    "    return(freqs)"
   ]
  },
  {
   "cell_type": "code",
   "execution_count": 117,
   "metadata": {},
   "outputs": [],
   "source": [
    "def tf_idf(corpus,dictionary):\n",
    "    termlist= []\n",
    "    for j in corpus:\n",
    "        corpuslist= []\n",
    "        freqlist= []\n",
    "        for i in j:\n",
    "            tfidf= i[1] / dictionary[i[0]]\n",
    "            corpuslist.append(i[0])\n",
    "            freqlist.append(tfidf)\n",
    "        corpusfreq= list(zip(corpuslist,freqlist))\n",
    "        termlist.append(corpusfreq)\n",
    "    \n",
    "    return(termlist)"
   ]
  },
  {
   "cell_type": "code",
   "execution_count": 118,
   "metadata": {},
   "outputs": [],
   "source": [
    "def get_listitem(data):\n",
    "    return data[1]"
   ]
  },
  {
   "cell_type": "code",
   "execution_count": 119,
   "metadata": {},
   "outputs": [],
   "source": [
    "Doc_Freqs= get_frequencies(BOW)"
   ]
  },
  {
   "cell_type": "code",
   "execution_count": 121,
   "metadata": {},
   "outputs": [],
   "source": [
    "TF_IDF= tf_idf(BOW,Doc_Freqs)"
   ]
  },
  {
   "cell_type": "code",
   "execution_count": 132,
   "metadata": {},
   "outputs": [],
   "source": [
    "TF_IDF= [sorted(i, key=lambda e: e[1], reverse=True) for i in TF_IDF]"
   ]
  },
  {
   "cell_type": "code",
   "execution_count": 145,
   "metadata": {},
   "outputs": [
    {
     "name": "stdout",
     "output_type": "stream",
     "text": [
      "['executive', 'message', 'authority', 'corporation', 'employees', 'railroads', 'isthmus', 'class', 'court', 'commission']\n",
      "['administration', 'judgment', 'private', 'able', 'effective', 'interest', 'peace', 'form', 'treaty', 'court']\n",
      "['social', 'believe', 'provide', 'tariff', 'wise', 'also', 'men', 'least', 'courts', 'come']\n",
      "['agreement', 'instance', 'military', 'position', 'forests', 'regulation', 'line', 'moreover', 'panama', 'canal']\n",
      "['ground', 'soil', 'board', 'farmer', 'june', 'destruction', 'exposition', 'liberty', 'opinion', 'judges']\n",
      "['supply', 'forest', 'cities', 'construction', 'demand', 'regards', 'practice', 'regulation', 'field', 'canal']\n",
      "['reasons', 'self-government', 'old', 'rich', 'throughout', 'panama', 'treaty', 'islands', 'indian', 'political']\n",
      "['pay', 'west', 'advance', 'standard', 'building', 'prosperity', 'welfare', 'isthmus', 'rate', 'treaty']\n"
     ]
    }
   ],
   "source": [
    "for i in TF_IDF:\n",
    "    words= [j[0] for j in i[len(i)-10:len(i)]]\n",
    "    print(words)"
   ]
  },
  {
   "cell_type": "code",
   "execution_count": 156,
   "metadata": {
    "scrolled": true
   },
   "outputs": [
    {
     "name": "stdout",
     "output_type": "stream",
     "text": [
      "Number of words unique to the speech:  680\n",
      "Number of unique words in the speech:  3364\n",
      "Percent of unique words (unique/total):  20.21 \n",
      "\n",
      "Number of words unique to the speech:  265\n",
      "Number of unique words in the speech:  2089\n",
      "Percent of unique words (unique/total):  12.69 \n",
      "\n",
      "Number of words unique to the speech:  506\n",
      "Number of unique words in the speech:  2751\n",
      "Percent of unique words (unique/total):  18.39 \n",
      "\n",
      "Number of words unique to the speech:  537\n",
      "Number of unique words in the speech:  3136\n",
      "Percent of unique words (unique/total):  17.12 \n",
      "\n",
      "Number of words unique to the speech:  657\n",
      "Number of unique words in the speech:  3701\n",
      "Percent of unique words (unique/total):  17.75 \n",
      "\n",
      "Number of words unique to the speech:  685\n",
      "Number of unique words in the speech:  3639\n",
      "Percent of unique words (unique/total):  18.82 \n",
      "\n",
      "Number of words unique to the speech:  697\n",
      "Number of unique words in the speech:  3857\n",
      "Percent of unique words (unique/total):  18.07 \n",
      "\n",
      "Number of words unique to the speech:  607\n",
      "Number of unique words in the speech:  3202\n",
      "Percent of unique words (unique/total):  18.96 \n",
      "\n"
     ]
    }
   ],
   "source": [
    "for speech in TF_IDF:\n",
    "    uniques= [i[0] for i in speech if i[1] == 1]\n",
    "    percent= round((len(uniques)/len(speech))*100,2)\n",
    "    print(\"Number of words unique to the speech: \",len(uniques))\n",
    "    print(\"Number of unique words in the speech: \",len(speech))\n",
    "    print(\"Percent of unique words (unique/total): \",percent,'\\n')"
   ]
  },
  {
   "cell_type": "code",
   "execution_count": 161,
   "metadata": {},
   "outputs": [
    {
     "name": "stdout",
     "output_type": "stream",
     "text": [
      "Number of words unique to the speech:  4634\n",
      "Number of unique words in the speech:  3202\n",
      "Percent of unique words (unique/total):  [0.15, 0.43, 0.33, 0.19, 0.27, 0.19, 0.1, 0.28] \n",
      "\n"
     ]
    }
   ],
   "source": [
    "uniques= [i[0] for j in TF_IDF for i in j if i[1] == 1]\n",
    "percent= [round((len(uniques[i])/len(TF_IDF[i]))*100,2) for i in range(0,len(TF_IDF))]\n",
    "#y_pos= range(1,len(TRspeeches_str)+1)\n",
    "\n",
    "for i in range(0,len(uniques))\n",
    "    print(\"Number of words unique to the speech: \",len(uniques))\n",
    "    print(\"Number of unique words in the speech: \",len(speech))\n",
    "    print(\"Percent of unique words (unique/total): \",percent,'\\n')"
   ]
  },
  {
   "cell_type": "markdown",
   "metadata": {},
   "source": [
    "## Observations\n",
    "\n",
    "Above are listed the number of words unique to each speech (TF-IDF = 1). TR's 1902 speech appears to be his least \"original\" by far. 1902 would have been his first State of the Union address, so perhaps he recycled many of the ideas of his inaugural address? More investigation will be necessary to confirm.\n",
    "\n",
    "In the Bag of Words approach, it was observed that the1902 speech was TR's least repetitive and the 1907 speech was the most repetitive. The TF-IDF anaylsis shows 1907 to be his most original while 1902, as mentioned, has the fewest words which are unique to that speech. This is interesting and seems to suggest a correlation between repeated and unique words in a speech, though it certainly does not confirm this observation.\n",
    "\n",
    "This analysis doesn't really show all that much, but with a bigger corpus (the whole of the speeches collection) it may be much more interesting."
   ]
  },
  {
   "cell_type": "markdown",
   "metadata": {},
   "source": [
    "# Plotting"
   ]
  },
  {
   "cell_type": "code",
   "execution_count": 160,
   "metadata": {},
   "outputs": [
    {
     "name": "stdout",
     "output_type": "stream",
     "text": [
      "[0.15, 0.43, 0.33, 0.19, 0.27, 0.19, 0.1, 0.28]\n"
     ]
    },
    {
     "data": {
      "image/png": "[encoded data removed]",
      "text/plain": [
       "<matplotlib.figure.Figure at 0x2327536aa58>"
      ]
     },
     "metadata": {
      "needs_background": "light"
     },
     "output_type": "display_data"
    }
   ],
   "source": [
    "uniques= [i[0] for j in TF_IDF for i in j if i[1] == 1]\n",
    "percent= [round((len(uniques[i])/len(TF_IDF[i]))*100,2) for i in range(0,len(TF_IDF))]\n",
    "y_pos= range(1,len(TRspeeches_str)+1)\n",
    "\n",
    "plt.title(\"Number of Unique words\")\n",
    "plt.xlabel(\"Speeches\")\n",
    "plt.ylabel(\"Percent of words unique to speech\")\n",
    "\n",
    "plt.xticks(y_pos, TRspeeches_str)\n",
    "\n",
    "plt.bar(y_pos,percent, align= 'center', alpha= 0.5)\n",
    "\n",
    "print(percent)\n",
    "plt.show()"
   ]
  }
 ],
 "metadata": {
  "kernelspec": {
   "display_name": "Python 3",
   "language": "python",
   "name": "python3"
  },
  "language_info": {
   "codemirror_mode": {
    "name": "ipython",
    "version": 3
   },
   "file_extension": ".py",
   "mimetype": "text/x-python",
   "name": "python",
   "nbconvert_exporter": "python",
   "pygments_lexer": "ipython3",
   "version": "3.6.7"
  }
 },
 "nbformat": 4,
 "nbformat_minor": 2
}
